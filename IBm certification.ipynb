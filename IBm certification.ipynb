{
 "cells": [
  {
   "cell_type": "markdown",
   "metadata": {},
   "source": [
    "# This this the data Vizualisation and
 exploration of the data set "
   ]
  },
  {
   "cell_type": "code",
   "execution_count": 2,
   "metadata": {},
   "outputs": [],
   "source": [
    "import pandas as pd\n"
   ]
  },
  {
   "cell_type": "code",
   "execution_count": 6,
   "metadata": {},
   "outputs": [],
   "source": [
    "df= pd.read_csv('bournemouth_venues.csv')"
   ]
  },
  {
   "cell_type": "code",
   "execution_count": 9,
   "metadata": {},
   "outputs": [
    {
     "data": {
      "text/html": [
       "<div>\n",
       "<style scoped>\n",
       "    .dataframe tbody tr th:only-of-type {\n",
       "        vertical-align: middle;\n",
       "    }\n",
       "\n",
       "    .dataframe tbody tr th {\n",
       "        vertical-align: top;\n",
       "    }\n",
       "\n",
       "    .dataframe thead th {\n",
       "        text-align: right;\n",
       "    }\n",
       "</style>\n",
       "<table border=\"1\" class=\"dataframe\">\n",
       "  <thead>\n",
       "    <tr style=\"text-align: right;\">\n",
       "      <th></th>\n",
       "      <th>Venue Name</th>\n",
       "      <th>Venue Category</th>\n",
       "      <th>Venue Latitude</th>\n",
       "      <th>Venue Longitude</th>\n",
       "    </tr>\n",
       "  </thead>\n",
       "  <tbody>\n",
       "    <tr>\n",
       "      <th>15</th>\n",
       "      <td>Mad Cucumber</td>\n",
       "      <td>Vegetarian / Vegan Restaurant</td>\n",
       "      <td>50.720177</td>\n",
       "      <td>-1.885088</td>\n",
       "    </tr>\n",
       "    <tr>\n",
       "      <th>29</th>\n",
       "      <td>NEO</td>\n",
       "      <td>Modern European Restaurant</td>\n",
       "      <td>50.716727</td>\n",
       "      <td>-1.879280</td>\n",
       "    </tr>\n",
       "    <tr>\n",
       "      <th>12</th>\n",
       "      <td>Esquire Coffee</td>\n",
       "      <td>Coffee Shop</td>\n",
       "      <td>50.721469</td>\n",
       "      <td>-1.876114</td>\n",
       "    </tr>\n",
       "    <tr>\n",
       "      <th>67</th>\n",
       "      <td>Bournemouth Pizza Co.</td>\n",
       "      <td>Pizza Place</td>\n",
       "      <td>50.725828</td>\n",
       "      <td>-1.861487</td>\n",
       "    </tr>\n",
       "    <tr>\n",
       "      <th>39</th>\n",
       "      <td>H&amp;M</td>\n",
       "      <td>Clothing Store</td>\n",
       "      <td>50.720186</td>\n",
       "      <td>-1.883193</td>\n",
       "    </tr>\n",
       "    <tr>\n",
       "      <th>85</th>\n",
       "      <td>Xchange</td>\n",
       "      <td>Gay Bar</td>\n",
       "      <td>50.719943</td>\n",
       "      <td>-1.885439</td>\n",
       "    </tr>\n",
       "    <tr>\n",
       "      <th>74</th>\n",
       "      <td>Hallmark Hotel</td>\n",
       "      <td>Hotel</td>\n",
       "      <td>50.718742</td>\n",
       "      <td>-1.890372</td>\n",
       "    </tr>\n",
       "    <tr>\n",
       "      <th>34</th>\n",
       "      <td>Caffè Nero</td>\n",
       "      <td>Coffee Shop</td>\n",
       "      <td>50.721251</td>\n",
       "      <td>-1.876465</td>\n",
       "    </tr>\n",
       "    <tr>\n",
       "      <th>91</th>\n",
       "      <td>Need A Coffee</td>\n",
       "      <td>Café</td>\n",
       "      <td>50.715741</td>\n",
       "      <td>-1.888358</td>\n",
       "    </tr>\n",
       "    <tr>\n",
       "      <th>49</th>\n",
       "      <td>Roosters Piri Piri</td>\n",
       "      <td>Fast Food Restaurant</td>\n",
       "      <td>50.722269</td>\n",
       "      <td>-1.868191</td>\n",
       "    </tr>\n",
       "  </tbody>\n",
       "</table>\n",
       "</div>"
      ],
      "text/plain": [
       "               Venue Name                 Venue Category  Venue Latitude  \\\n",
       "15           Mad Cucumber  Vegetarian / Vegan Restaurant       50.720177   \n",
       "29                    NEO     Modern European Restaurant       50.716727   \n",
       "12         Esquire Coffee                    Coffee Shop       50.721469   \n",
       "67  Bournemouth Pizza Co.                    Pizza Place       50.725828   \n",
       "39                    H&M                 Clothing Store       50.720186   \n",
       "85                Xchange                        Gay Bar       50.719943   \n",
       "74         Hallmark Hotel                          Hotel       50.718742   \n",
       "34             Caffè Nero                    Coffee Shop       50.721251   \n",
       "91          Need A Coffee                           Café       50.715741   \n",
       "49     Roosters Piri Piri           Fast Food Restaurant       50.722269   \n",
       "\n",
       "    Venue Longitude  \n",
       "15        -1.885088  \n",
       "29        -1.879280  \n",
       "12        -1.876114  \n",
       "67        -1.861487  \n",
       "39        -1.883193  \n",
       "85        -1.885439  \n",
       "74        -1.890372  \n",
       "34        -1.876465  \n",
       "91        -1.888358  \n",
       "49        -1.868191  "
      ]
     },
     "execution_count": 9,
     "metadata": {},
     "output_type": "execute_result"
    }
   ],
   "source": [
    "df.sample(n = 10)"
   ]
  },
  {
   "cell_type": "code",
   "execution_count": 10,
   "metadata": {},
   "outputs": [],
   "source": [
    "# as you can see we have many  Venue category \n",
    "df['Venue Category'].nunique()\n",
    "# in total we have 51 Venue Category"
   ]
  },
  {
   "cell_type": "code",
   "execution_count": 17,
   "metadata": {},
   "outputs": [
    {
     "data": {
      "text/plain": [
       "(100, 4)"
      ]
     },
     "execution_count": 17,
     "metadata": {},
     "output_type": "execute_result"
    }
   ],
   "source": [
    "df.shape\n",
    "# we have 1000 venue "
   ]
  },
  {
   "cell_type": "code",
   "execution_count": null,
   "metadata": {},
   "outputs": [],
   "source": []
  }
 ],
 "metadata": {
  "kernelspec": {
   "display_name": "Python 3",
   "language": "python",
   "name": "python3"
  },
  "language_info": {
   "codemirror_mode": {
    "name": "ipython",
    "version": 3
   },
   "file_extension": ".py",
   "mimetype": "text/x-python",
   "name": "python",
   "nbconvert_exporter": "python",
   "pygments_lexer": "ipython3",
   "version": "3.7.6"
  }
 },
 "nbformat": 4,
 "nbformat_minor": 4
}
